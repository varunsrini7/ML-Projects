{
 "cells": [
  {
   "cell_type": "code",
   "execution_count": 33,
   "id": "870ddd59",
   "metadata": {},
   "outputs": [],
   "source": [
    "import pandas as pd\n",
    "import numpy as np\n",
    "import matplotlib.pyplot as plt\n",
    "%matplotlib inline"
   ]
  },
  {
   "cell_type": "code",
   "execution_count": 34,
   "id": "1e246fa5",
   "metadata": {},
   "outputs": [],
   "source": [
    "from tensorflow.keras.datasets import cifar10"
   ]
  },
  {
   "cell_type": "code",
   "execution_count": 35,
   "id": "e13f4080",
   "metadata": {},
   "outputs": [],
   "source": [
    "(x_train,y_train), (x_test,y_test) = cifar10.load_data()"
   ]
  },
  {
   "cell_type": "code",
   "execution_count": 36,
   "id": "bb5153e1",
   "metadata": {},
   "outputs": [
    {
     "data": {
      "text/plain": [
       "(50000, 32, 32, 3)"
      ]
     },
     "execution_count": 36,
     "metadata": {},
     "output_type": "execute_result"
    }
   ],
   "source": [
    "x_train.shape "
   ]
  },
  {
   "cell_type": "markdown",
   "id": "828a6fcf",
   "metadata": {},
   "source": [
    "Here its a coloured image, thats why we have the rgb color channel so 3 is present at the last"
   ]
  },
  {
   "cell_type": "code",
   "execution_count": 37,
   "id": "0292747a",
   "metadata": {},
   "outputs": [
    {
     "data": {
      "text/plain": [
       "(32, 32, 3)"
      ]
     },
     "execution_count": 37,
     "metadata": {},
     "output_type": "execute_result"
    }
   ],
   "source": [
    "x_train[0].shape"
   ]
  },
  {
   "cell_type": "code",
   "execution_count": 38,
   "id": "d37852ab",
   "metadata": {},
   "outputs": [
    {
     "data": {
      "text/plain": [
       "<matplotlib.image.AxesImage at 0x22a13a39af0>"
      ]
     },
     "execution_count": 38,
     "metadata": {},
     "output_type": "execute_result"
    },
    {
     "data": {
      "image/png": "[encoded data removed]",
      "text/plain": [
       "<Figure size 432x288 with 1 Axes>"
      ]
     },
     "metadata": {
      "needs_background": "light"
     },
     "output_type": "display_data"
    }
   ],
   "source": [
    "plt.imshow(x_train[0])"
   ]
  },
  {
   "cell_type": "markdown",
   "id": "db4cb55b",
   "metadata": {},
   "source": [
    "This is an image of a frog"
   ]
  },
  {
   "cell_type": "code",
   "execution_count": 39,
   "id": "a6f9ee7a",
   "metadata": {},
   "outputs": [
    {
     "data": {
      "text/plain": [
       "<matplotlib.image.AxesImage at 0x22a11620370>"
      ]
     },
     "execution_count": 39,
     "metadata": {},
     "output_type": "execute_result"
    },
    {
     "data": {
      "image/png": "[encoded data removed]",
      "text/plain": [
       "<Figure size 432x288 with 1 Axes>"
      ]
     },
     "metadata": {
      "needs_background": "light"
     },
     "output_type": "display_data"
    }
   ],
   "source": [
    "plt.imshow(x_train[12])"
   ]
  },
  {
   "cell_type": "markdown",
   "id": "98e4e47a",
   "metadata": {},
   "source": [
    "Now these images have just enough information for a human to detect what it is"
   ]
  },
  {
   "cell_type": "code",
   "execution_count": 40,
   "id": "389360af",
   "metadata": {},
   "outputs": [
    {
     "data": {
      "text/plain": [
       "255"
      ]
     },
     "execution_count": 40,
     "metadata": {},
     "output_type": "execute_result"
    }
   ],
   "source": [
    "x_train[0].max()"
   ]
  },
  {
   "cell_type": "markdown",
   "id": "6ee779d3",
   "metadata": {},
   "source": [
    "So its clear that the max value upto which each image data goes upto is 255"
   ]
  },
  {
   "cell_type": "markdown",
   "id": "2783fc52",
   "metadata": {},
   "source": [
    "So for the data pre-processing, let's divide our x_train and x_test by 255"
   ]
  },
  {
   "cell_type": "code",
   "execution_count": 41,
   "id": "b3e5181c",
   "metadata": {},
   "outputs": [],
   "source": [
    "x_train = x_train / 255"
   ]
  },
  {
   "cell_type": "code",
   "execution_count": 42,
   "id": "42c17772",
   "metadata": {},
   "outputs": [],
   "source": [
    "x_test = x_test / 255"
   ]
  },
  {
   "cell_type": "code",
   "execution_count": 43,
   "id": "e25f2b90",
   "metadata": {},
   "outputs": [
    {
     "data": {
      "text/plain": [
       "(10000, 32, 32, 3)"
      ]
     },
     "execution_count": 43,
     "metadata": {},
     "output_type": "execute_result"
    }
   ],
   "source": [
    "x_test.shape"
   ]
  },
  {
   "cell_type": "markdown",
   "id": "2b94d6df",
   "metadata": {},
   "source": [
    "there are 10000 images in the test set"
   ]
  },
  {
   "cell_type": "code",
   "execution_count": 44,
   "id": "0be099a9",
   "metadata": {},
   "outputs": [
    {
     "data": {
      "text/plain": [
       "array([[6],\n",
       "       [9],\n",
       "       [9],\n",
       "       ...,\n",
       "       [9],\n",
       "       [1],\n",
       "       [1]], dtype=uint8)"
      ]
     },
     "execution_count": 44,
     "metadata": {},
     "output_type": "execute_result"
    }
   ],
   "source": [
    "y_train"
   ]
  },
  {
   "cell_type": "code",
   "execution_count": 45,
   "id": "9f904a02",
   "metadata": {},
   "outputs": [
    {
     "data": {
      "text/plain": [
       "array([[3],\n",
       "       [8],\n",
       "       [8],\n",
       "       ...,\n",
       "       [5],\n",
       "       [1],\n",
       "       [7]], dtype=uint8)"
      ]
     },
     "execution_count": 45,
     "metadata": {},
     "output_type": "execute_result"
    }
   ],
   "source": [
    "y_test"
   ]
  },
  {
   "cell_type": "markdown",
   "id": "887807c7",
   "metadata": {},
   "source": [
    "So we have integer values in them basically. Again we don't want our CNN to consider these as continuous values, but to be categorized properly. Hence we need to encode these values."
   ]
  },
  {
   "cell_type": "code",
   "execution_count": 46,
   "id": "72499698",
   "metadata": {},
   "outputs": [],
   "source": [
    "from tensorflow.keras.utils import to_categorical"
   ]
  },
  {
   "cell_type": "code",
   "execution_count": 50,
   "id": "d3889123",
   "metadata": {},
   "outputs": [],
   "source": [
    "y_cat_train = to_categorical(y_train, num_classes = 10)"
   ]
  },
  {
   "cell_type": "code",
   "execution_count": 51,
   "id": "b7f2dcfb",
   "metadata": {},
   "outputs": [],
   "source": [
    "y_cat_test = to_categorical(y_test, num_classes=10)"
   ]
  },
  {
   "cell_type": "code",
   "execution_count": 52,
   "id": "2c8cdf94",
   "metadata": {},
   "outputs": [
    {
     "data": {
      "text/plain": [
       "array([6], dtype=uint8)"
      ]
     },
     "execution_count": 52,
     "metadata": {},
     "output_type": "execute_result"
    }
   ],
   "source": [
    "y_train[0]"
   ]
  },
  {
   "cell_type": "code",
   "execution_count": 53,
   "id": "e335648b",
   "metadata": {},
   "outputs": [
    {
     "data": {
      "text/plain": [
       "<matplotlib.image.AxesImage at 0x22a120a1df0>"
      ]
     },
     "execution_count": 53,
     "metadata": {},
     "output_type": "execute_result"
    },
    {
     "data": {
      "image/png": "[encoded data removed]",
      "text/plain": [
       "<Figure size 432x288 with 1 Axes>"
      ]
     },
     "metadata": {
      "needs_background": "light"
     },
     "output_type": "display_data"
    }
   ],
   "source": [
    "plt.imshow(x_train[0])"
   ]
  },
  {
   "cell_type": "markdown",
   "id": "6b3db405",
   "metadata": {},
   "source": [
    "We have a frog here, and that is corresponding to the number 6(according to y_train[0]). So according to the CIFAR-10 dataset, the output is like this:\n",
    "The 10 different classes represent airplanes, cars, birds, cats, deer, dogs, frogs, horses, ships, and trucks\n",
    "So 0 is airplane, 1 is car, 2 is bird and so on..."
   ]
  },
  {
   "cell_type": "markdown",
   "id": "5093d8ec",
   "metadata": {},
   "source": [
    "We don't have to do any reshaping here as its already a coloured images dataset, so there's a separate dimension specified for the colour channel"
   ]
  },
  {
   "cell_type": "code",
   "execution_count": 54,
   "id": "c0410fb7",
   "metadata": {},
   "outputs": [],
   "source": [
    "from tensorflow.keras.models import Sequential"
   ]
  },
  {
   "cell_type": "code",
   "execution_count": 55,
   "id": "44a5f3a3",
   "metadata": {},
   "outputs": [],
   "source": [
    "from tensorflow.keras.layers import Dense, Conv2D, MaxPool2D, Flatten\n",
    "#We are importing a convolutional layer, pooling layer and finally going to flatten that layer"
   ]
  },
  {
   "cell_type": "code",
   "execution_count": 56,
   "id": "81bcc194",
   "metadata": {},
   "outputs": [
    {
     "data": {
      "text/plain": [
       "3072"
      ]
     },
     "execution_count": 56,
     "metadata": {},
     "output_type": "execute_result"
    }
   ],
   "source": [
    "32*32*3\n",
    "#This is the total number of info contained in every image. So its a good idea to add more convolutional and pooling layers."
   ]
  },
  {
   "cell_type": "code",
   "execution_count": 59,
   "id": "ff229c14",
   "metadata": {},
   "outputs": [],
   "source": [
    "model = Sequential()\n",
    "\n",
    "#CONVOLUTIONAL LAYER\n",
    "model.add(Conv2D(filters = 32, kernel_size = (4,4), input_shape = (32,32,3), activation = 'relu'))\n",
    "#POOLING LAYER\n",
    "model.add(MaxPool2D(pool_size = (2,2)))\n",
    "\n",
    "#CONVOLUTIONAL LAYER\n",
    "model.add(Conv2D(filters = 32, kernel_size = (4,4), input_shape = (32,32,3), activation = 'relu'))\n",
    "#POOLING LAYER\n",
    "model.add(MaxPool2D(pool_size = (2,2)))\n",
    "\n",
    "model.add(Flatten())\n",
    "\n",
    "model.add(Dense(256,activation = 'relu'))\n",
    "\n",
    "model.add(Dense(10,activation = 'softmax'))\n",
    "\n",
    "model.compile(loss = 'categorical_crossentropy', optimizer = 'adam', metrics = ['accuracy'])"
   ]
  },
  {
   "cell_type": "code",
   "execution_count": 60,
   "id": "03ed9f72",
   "metadata": {},
   "outputs": [
    {
     "name": "stdout",
     "output_type": "stream",
     "text": [
      "Model: \"sequential_2\"\n",
      "_________________________________________________________________\n",
      " Layer (type)                Output Shape              Param #   \n",
      "=================================================================\n",
      " conv2d_4 (Conv2D)           (None, 29, 29, 32)        1568      \n",
      "                                                                 \n",
      " max_pooling2d_4 (MaxPooling  (None, 14, 14, 32)       0         \n",
      " 2D)                                                             \n",
      "                                                                 \n",
      " conv2d_5 (Conv2D)           (None, 11, 11, 32)        16416     \n",
      "                                                                 \n",
      " max_pooling2d_5 (MaxPooling  (None, 5, 5, 32)         0         \n",
      " 2D)                                                             \n",
      "                                                                 \n",
      " flatten_2 (Flatten)         (None, 800)               0         \n",
      "                                                                 \n",
      " dense_4 (Dense)             (None, 256)               205056    \n",
      "                                                                 \n",
      " dense_5 (Dense)             (None, 10)                2570      \n",
      "                                                                 \n",
      "=================================================================\n",
      "Total params: 225,610\n",
      "Trainable params: 225,610\n",
      "Non-trainable params: 0\n",
      "_________________________________________________________________\n"
     ]
    }
   ],
   "source": [
    "model.summary()"
   ]
  },
  {
   "cell_type": "code",
   "execution_count": 61,
   "id": "02ad295d",
   "metadata": {},
   "outputs": [],
   "source": [
    "from tensorflow.keras.callbacks import EarlyStopping"
   ]
  },
  {
   "cell_type": "code",
   "execution_count": 62,
   "id": "f9079369",
   "metadata": {},
   "outputs": [],
   "source": [
    "early_stop = EarlyStopping(monitor = 'val_loss', patience = 2)"
   ]
  },
  {
   "cell_type": "code",
   "execution_count": 64,
   "id": "615b9034",
   "metadata": {},
   "outputs": [
    {
     "name": "stdout",
     "output_type": "stream",
     "text": [
      "Epoch 1/15\n",
      "1563/1563 [==============================] - 27s 17ms/step - loss: 1.2265 - accuracy: 0.5673 - val_loss: 1.1362 - val_accuracy: 0.5993\n",
      "Epoch 2/15\n",
      "1563/1563 [==============================] - 27s 17ms/step - loss: 1.0498 - accuracy: 0.6351 - val_loss: 1.0850 - val_accuracy: 0.6267\n",
      "Epoch 3/15\n",
      "1563/1563 [==============================] - 26s 17ms/step - loss: 0.9226 - accuracy: 0.6787 - val_loss: 1.0193 - val_accuracy: 0.6466\n",
      "Epoch 4/15\n",
      "1563/1563 [==============================] - 26s 17ms/step - loss: 0.8353 - accuracy: 0.7071 - val_loss: 0.9550 - val_accuracy: 0.6678\n",
      "Epoch 5/15\n",
      "1563/1563 [==============================] - 26s 17ms/step - loss: 0.7471 - accuracy: 0.7383 - val_loss: 0.9526 - val_accuracy: 0.6763\n",
      "Epoch 6/15\n",
      "1563/1563 [==============================] - 26s 17ms/step - loss: 0.6683 - accuracy: 0.7652 - val_loss: 0.9604 - val_accuracy: 0.6846\n",
      "Epoch 7/15\n",
      "1563/1563 [==============================] - 26s 17ms/step - loss: 0.5969 - accuracy: 0.7908 - val_loss: 0.9960 - val_accuracy: 0.6811\n"
     ]
    },
    {
     "data": {
      "text/plain": [
       "<keras.callbacks.History at 0x22a1174df10>"
      ]
     },
     "execution_count": 64,
     "metadata": {},
     "output_type": "execute_result"
    }
   ],
   "source": [
    "model.fit(x_train,y_cat_train, epochs = 15, validation_data = (x_test, y_cat_test), callbacks = [early_stop])"
   ]
  },
  {
   "cell_type": "code",
   "execution_count": 65,
   "id": "f2655d0d",
   "metadata": {},
   "outputs": [],
   "source": [
    "metrics = pd.DataFrame(model.history.history)"
   ]
  },
  {
   "cell_type": "code",
   "execution_count": 66,
   "id": "1e055e89",
   "metadata": {},
   "outputs": [
    {
     "data": {
      "text/html": [
       "<div>\n",
       "<style scoped>\n",
       "    .dataframe tbody tr th:only-of-type {\n",
       "        vertical-align: middle;\n",
       "    }\n",
       "\n",
       "    .dataframe tbody tr th {\n",
       "        vertical-align: top;\n",
       "    }\n",
       "\n",
       "    .dataframe thead th {\n",
       "        text-align: right;\n",
       "    }\n",
       "</style>\n",
       "<table border=\"1\" class=\"dataframe\">\n",
       "  <thead>\n",
       "    <tr style=\"text-align: right;\">\n",
       "      <th></th>\n",
       "      <th>loss</th>\n",
       "      <th>accuracy</th>\n",
       "      <th>val_loss</th>\n",
       "      <th>val_accuracy</th>\n",
       "    </tr>\n",
       "  </thead>\n",
       "  <tbody>\n",
       "    <tr>\n",
       "      <th>0</th>\n",
       "      <td>1.226529</td>\n",
       "      <td>0.56728</td>\n",
       "      <td>1.136153</td>\n",
       "      <td>0.5993</td>\n",
       "    </tr>\n",
       "    <tr>\n",
       "      <th>1</th>\n",
       "      <td>1.049824</td>\n",
       "      <td>0.63508</td>\n",
       "      <td>1.084959</td>\n",
       "      <td>0.6267</td>\n",
       "    </tr>\n",
       "    <tr>\n",
       "      <th>2</th>\n",
       "      <td>0.922593</td>\n",
       "      <td>0.67868</td>\n",
       "      <td>1.019291</td>\n",
       "      <td>0.6466</td>\n",
       "    </tr>\n",
       "    <tr>\n",
       "      <th>3</th>\n",
       "      <td>0.835257</td>\n",
       "      <td>0.70712</td>\n",
       "      <td>0.954997</td>\n",
       "      <td>0.6678</td>\n",
       "    </tr>\n",
       "    <tr>\n",
       "      <th>4</th>\n",
       "      <td>0.747056</td>\n",
       "      <td>0.73828</td>\n",
       "      <td>0.952582</td>\n",
       "      <td>0.6763</td>\n",
       "    </tr>\n",
       "    <tr>\n",
       "      <th>5</th>\n",
       "      <td>0.668285</td>\n",
       "      <td>0.76524</td>\n",
       "      <td>0.960404</td>\n",
       "      <td>0.6846</td>\n",
       "    </tr>\n",
       "    <tr>\n",
       "      <th>6</th>\n",
       "      <td>0.596874</td>\n",
       "      <td>0.79080</td>\n",
       "      <td>0.996006</td>\n",
       "      <td>0.6811</td>\n",
       "    </tr>\n",
       "  </tbody>\n",
       "</table>\n",
       "</div>"
      ],
      "text/plain": [
       "       loss  accuracy  val_loss  val_accuracy\n",
       "0  1.226529   0.56728  1.136153        0.5993\n",
       "1  1.049824   0.63508  1.084959        0.6267\n",
       "2  0.922593   0.67868  1.019291        0.6466\n",
       "3  0.835257   0.70712  0.954997        0.6678\n",
       "4  0.747056   0.73828  0.952582        0.6763\n",
       "5  0.668285   0.76524  0.960404        0.6846\n",
       "6  0.596874   0.79080  0.996006        0.6811"
      ]
     },
     "execution_count": 66,
     "metadata": {},
     "output_type": "execute_result"
    }
   ],
   "source": [
    "metrics"
   ]
  },
  {
   "cell_type": "code",
   "execution_count": 67,
   "id": "25ff1ef4",
   "metadata": {},
   "outputs": [
    {
     "data": {
      "text/plain": [
       "<AxesSubplot:>"
      ]
     },
     "execution_count": 67,
     "metadata": {},
     "output_type": "execute_result"
    },
    {
     "data": {
      "image/png": "[encoded data removed]",
      "text/plain": [
       "<Figure size 432x288 with 1 Axes>"
      ]
     },
     "metadata": {
      "needs_background": "light"
     },
     "output_type": "display_data"
    }
   ],
   "source": [
    "metrics[['accuracy','val_accuracy']].plot()"
   ]
  },
  {
   "cell_type": "code",
   "execution_count": 68,
   "id": "b7b83811",
   "metadata": {},
   "outputs": [
    {
     "data": {
      "text/plain": [
       "<AxesSubplot:>"
      ]
     },
     "execution_count": 68,
     "metadata": {},
     "output_type": "execute_result"
    },
    {
     "data": {
      "image/png": "[encoded data removed]",
      "text/plain": [
       "<Figure size 432x288 with 1 Axes>"
      ]
     },
     "metadata": {
      "needs_background": "light"
     },
     "output_type": "display_data"
    }
   ],
   "source": [
    "metrics[['loss', 'val_loss']].plot()"
   ]
  },
  {
   "cell_type": "code",
   "execution_count": 69,
   "id": "5a743ae4",
   "metadata": {},
   "outputs": [
    {
     "name": "stdout",
     "output_type": "stream",
     "text": [
      "313/313 [==============================] - 2s 5ms/step - loss: 0.9960 - accuracy: 0.6811\n"
     ]
    },
    {
     "data": {
      "text/plain": [
       "[0.9960060715675354, 0.6811000108718872]"
      ]
     },
     "execution_count": 69,
     "metadata": {},
     "output_type": "execute_result"
    }
   ],
   "source": [
    "model.evaluate(x_test,y_cat_test)"
   ]
  },
  {
   "cell_type": "code",
   "execution_count": 70,
   "id": "dc50db38",
   "metadata": {},
   "outputs": [],
   "source": [
    "from sklearn.metrics import classification_report, confusion_matrix"
   ]
  },
  {
   "cell_type": "code",
   "execution_count": 79,
   "id": "35b2d10b",
   "metadata": {},
   "outputs": [],
   "source": [
    "predictions = model.predict(x_test)\n",
    "predictions = np.argmax(predictions,axis=1)"
   ]
  },
  {
   "cell_type": "code",
   "execution_count": 80,
   "id": "57d3ce5a",
   "metadata": {},
   "outputs": [
    {
     "name": "stdout",
     "output_type": "stream",
     "text": [
      "              precision    recall  f1-score   support\n",
      "\n",
      "           0       0.70      0.77      0.73      1000\n",
      "           1       0.77      0.83      0.80      1000\n",
      "           2       0.68      0.50      0.58      1000\n",
      "           3       0.49      0.50      0.49      1000\n",
      "           4       0.65      0.59      0.62      1000\n",
      "           5       0.65      0.52      0.58      1000\n",
      "           6       0.71      0.80      0.75      1000\n",
      "           7       0.65      0.79      0.71      1000\n",
      "           8       0.86      0.70      0.77      1000\n",
      "           9       0.69      0.80      0.74      1000\n",
      "\n",
      "    accuracy                           0.68     10000\n",
      "   macro avg       0.68      0.68      0.68     10000\n",
      "weighted avg       0.68      0.68      0.68     10000\n",
      "\n"
     ]
    }
   ],
   "source": [
    "print(classification_report(y_test, predictions))"
   ]
  },
  {
   "cell_type": "code",
   "execution_count": 81,
   "id": "79625668",
   "metadata": {},
   "outputs": [
    {
     "data": {
      "text/plain": [
       "array([[768,  32,  36,  20,  18,   5,   7,  21,  31,  62],\n",
       "       [ 28, 831,   4,  13,   1,   3,  11,   2,  18,  89],\n",
       "       [ 74,  14, 503,  83,  94,  54,  75,  69,  11,  23],\n",
       "       [ 24,  21,  43, 503,  59, 140,  84,  72,  13,  41],\n",
       "       [ 24,  12,  45,  72, 588,  30,  80, 117,  16,  16],\n",
       "       [ 13,  11,  40, 201,  55, 522,  41,  93,   5,  19],\n",
       "       [  8,  10,  29,  69,  34,  12, 799,  19,   5,  15],\n",
       "       [ 15,  10,  20,  39,  43,  29,  14, 791,   3,  36],\n",
       "       [119,  44,  12,  21,   4,   8,   8,  17, 703,  64],\n",
       "       [ 32,  97,  10,  14,   3,   4,   5,  16,  16, 803]], dtype=int64)"
      ]
     },
     "execution_count": 81,
     "metadata": {},
     "output_type": "execute_result"
    }
   ],
   "source": [
    "confusion_matrix(y_test,predictions)"
   ]
  },
  {
   "cell_type": "code",
   "execution_count": 91,
   "id": "4b40275e",
   "metadata": {},
   "outputs": [],
   "source": [
    "my_image = x_test[16]"
   ]
  },
  {
   "cell_type": "code",
   "execution_count": 92,
   "id": "963b3f4e",
   "metadata": {},
   "outputs": [
    {
     "data": {
      "text/plain": [
       "array([[[0.37254902, 0.29803922, 0.30588235],\n",
       "        [0.36078431, 0.30196078, 0.30588235],\n",
       "        [0.34901961, 0.30196078, 0.30196078],\n",
       "        ...,\n",
       "        [0.11764706, 0.10980392, 0.14901961],\n",
       "        [0.68627451, 0.71764706, 0.74901961],\n",
       "        [0.88235294, 0.91764706, 0.94117647]],\n",
       "\n",
       "       [[0.35294118, 0.27843137, 0.28627451],\n",
       "        [0.3372549 , 0.28235294, 0.28235294],\n",
       "        [0.3254902 , 0.27843137, 0.27843137],\n",
       "        ...,\n",
       "        [0.        , 0.        , 0.05098039],\n",
       "        [0.23529412, 0.24705882, 0.30980392],\n",
       "        [0.64705882, 0.67058824, 0.74117647]],\n",
       "\n",
       "       [[0.34509804, 0.27058824, 0.27843137],\n",
       "        [0.32941176, 0.2745098 , 0.2745098 ],\n",
       "        [0.32156863, 0.2745098 , 0.2745098 ],\n",
       "        ...,\n",
       "        [0.01960784, 0.        , 0.04705882],\n",
       "        [0.09411765, 0.10196078, 0.18823529],\n",
       "        [0.49803922, 0.54509804, 0.64705882]],\n",
       "\n",
       "       ...,\n",
       "\n",
       "       [[0.79607843, 0.69019608, 0.63137255],\n",
       "        [0.83529412, 0.68627451, 0.61176471],\n",
       "        [0.79215686, 0.64705882, 0.60784314],\n",
       "        ...,\n",
       "        [0.71372549, 0.71764706, 0.74117647],\n",
       "        [0.4627451 , 0.47058824, 0.49019608],\n",
       "        [0.14509804, 0.1254902 , 0.18039216]],\n",
       "\n",
       "       [[0.48235294, 0.36862745, 0.35294118],\n",
       "        [0.82352941, 0.66666667, 0.61568627],\n",
       "        [0.82745098, 0.67058824, 0.62745098],\n",
       "        ...,\n",
       "        [0.45490196, 0.45490196, 0.47058824],\n",
       "        [0.17254902, 0.17647059, 0.18431373],\n",
       "        [0.04313725, 0.01176471, 0.05882353]],\n",
       "\n",
       "       [[0.4       , 0.33333333, 0.32941176],\n",
       "        [0.81568627, 0.71764706, 0.68627451],\n",
       "        [0.84313725, 0.72941176, 0.69019608],\n",
       "        ...,\n",
       "        [0.14509804, 0.12941176, 0.16862745],\n",
       "        [0.06666667, 0.05098039, 0.08627451],\n",
       "        [0.08627451, 0.04313725, 0.10980392]]])"
      ]
     },
     "execution_count": 92,
     "metadata": {},
     "output_type": "execute_result"
    }
   ],
   "source": [
    "my_image"
   ]
  },
  {
   "cell_type": "code",
   "execution_count": 93,
   "id": "ba7e6fe9",
   "metadata": {},
   "outputs": [
    {
     "data": {
      "text/plain": [
       "<matplotlib.image.AxesImage at 0x22a51f68bb0>"
      ]
     },
     "execution_count": 93,
     "metadata": {},
     "output_type": "execute_result"
    },
    {
     "data": {
      "image/png": "[encoded data removed]",
      "text/plain": [
       "<Figure size 432x288 with 1 Axes>"
      ]
     },
     "metadata": {
      "needs_background": "light"
     },
     "output_type": "display_data"
    }
   ],
   "source": [
    "plt.imshow(my_image)"
   ]
  },
  {
   "cell_type": "code",
   "execution_count": 95,
   "id": "edafa464",
   "metadata": {},
   "outputs": [
    {
     "data": {
      "text/plain": [
       "array([5], dtype=uint8)"
      ]
     },
     "execution_count": 95,
     "metadata": {},
     "output_type": "execute_result"
    }
   ],
   "source": [
    "y_test[16]"
   ]
  },
  {
   "cell_type": "markdown",
   "id": "e1ff5060",
   "metadata": {},
   "source": [
    "Our model is supposed to predict that it is a dog"
   ]
  },
  {
   "cell_type": "code",
   "execution_count": 96,
   "id": "cc5ba472",
   "metadata": {},
   "outputs": [
    {
     "data": {
      "text/plain": [
       "array([[1.60485982e-07, 2.62807725e-06, 1.06844445e-05, 4.71571367e-03,\n",
       "        8.32212834e-07, 9.95040238e-01, 1.35385733e-06, 2.13229636e-04,\n",
       "        7.35513083e-07, 1.43951902e-05]], dtype=float32)"
      ]
     },
     "execution_count": 96,
     "metadata": {},
     "output_type": "execute_result"
    }
   ],
   "source": [
    "model.predict(my_image.reshape(1,32,32,3))"
   ]
  },
  {
   "cell_type": "markdown",
   "id": "29ca272e",
   "metadata": {},
   "source": [
    "We can see that the 5th index of the array has the highest value so that's our predicted value"
   ]
  },
  {
   "cell_type": "code",
   "execution_count": null,
   "id": "5d9c80f0",
   "metadata": {},
   "outputs": [],
   "source": []
  }
 ],
 "metadata": {
  "kernelspec": {
   "display_name": "Python 3",
   "language": "python",
   "name": "python3"
  },
  "language_info": {
   "codemirror_mode": {
    "name": "ipython",
    "version": 3
   },
   "file_extension": ".py",
   "mimetype": "text/x-python",
   "name": "python",
   "nbconvert_exporter": "python",
   "pygments_lexer": "ipython3",
   "version": "3.8.8"
  }
 },
 "nbformat": 4,
 "nbformat_minor": 5
}
