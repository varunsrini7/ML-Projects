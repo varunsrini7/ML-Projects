{
 "cells": [
  {
   "cell_type": "markdown",
   "id": "42db0751",
   "metadata": {},
   "source": [
    "The pathlib is a Python module which provides an object API for working with files and directories. The pathlib is a standard module. Path is the core object to work with files."
   ]
  },
  {
   "cell_type": "code",
   "execution_count": 1,
   "id": "37d6e7f3",
   "metadata": {},
   "outputs": [],
   "source": [
    "import tensorflow as tf\n",
    "\n",
    "\n",
    "import pathlib\n",
    "\n",
    "#We are going to use the flower dataset\n",
    "\n",
    "dataset_url = \"https://storage.googleapis.com/download.tensorflow.org/example_images/flower_photos.tgz\"\n",
    "data_dir = tf.keras.utils.get_file('flower_photos', origin=dataset_url, untar=True)\n",
    "#tf.keras.utils.get_file is used to download the files from the url. Untar = true means that the file should be decompressed.\n",
    "data_dir = pathlib.Path(data_dir)\n",
    "#we are creating a path object for data_dir and a directory is created with the flower photos"
   ]
  },
  {
   "cell_type": "code",
   "execution_count": 2,
   "id": "ed8251b9",
   "metadata": {},
   "outputs": [],
   "source": [
    "batch_size = 32\n",
    "#This means that we are using 32 training examples used in one iteration"
   ]
  },
  {
   "cell_type": "code",
   "execution_count": 3,
   "id": "9c278c59",
   "metadata": {},
   "outputs": [
    {
     "name": "stdout",
     "output_type": "stream",
     "text": [
      "Found 3670 files belonging to 5 classes.\n"
     ]
    }
   ],
   "source": [
    "train_ds = tf.keras.utils.image_dataset_from_directory(\n",
    "  data_dir,\n",
    "  seed=123,\n",
    "  image_size=(180, 180),\n",
    "  batch_size=batch_size)\n",
    "\n",
    "#Generates a tf.data.Dataset from image files in a directory.t"
   ]
  },
  {
   "cell_type": "markdown",
   "id": "872e287d",
   "metadata": {},
   "source": [
    "The tf.data.Dataset API supports writing descriptive and efficient input pipelines. Dataset usage follows a common pattern:\n",
    "\n",
    "Create a source dataset from your input data.\n",
    "Apply dataset transformations to preprocess the data.\n",
    "Iterate over the dataset and process the elements.\n",
    "Iteration happens in a streaming fashion, so the full dataset does not need to fit into memory."
   ]
  },
  {
   "cell_type": "code",
   "execution_count": 4,
   "id": "32abebb7",
   "metadata": {},
   "outputs": [
    {
     "name": "stdout",
     "output_type": "stream",
     "text": [
      "Epoch 1/10\n",
      "115/115 [==============================] - 43s 368ms/step - loss: 1.2869 - accuracy: 0.4471\n",
      "Epoch 2/10\n",
      "115/115 [==============================] - 45s 388ms/step - loss: 0.9646 - accuracy: 0.6139\n",
      "Epoch 3/10\n",
      "115/115 [==============================] - 44s 384ms/step - loss: 0.7792 - accuracy: 0.7019\n",
      "Epoch 4/10\n",
      "115/115 [==============================] - 42s 367ms/step - loss: 0.6183 - accuracy: 0.7736\n",
      "Epoch 5/10\n",
      "115/115 [==============================] - 43s 372ms/step - loss: 0.4148 - accuracy: 0.8572\n",
      "Epoch 6/10\n",
      "115/115 [==============================] - 43s 371ms/step - loss: 0.2618 - accuracy: 0.9098\n",
      "Epoch 7/10\n",
      "115/115 [==============================] - 43s 374ms/step - loss: 0.1721 - accuracy: 0.9447\n",
      "Epoch 8/10\n",
      "115/115 [==============================] - 44s 380ms/step - loss: 0.1006 - accuracy: 0.9708\n",
      "Epoch 9/10\n",
      "115/115 [==============================] - 44s 384ms/step - loss: 0.0675 - accuracy: 0.9823\n",
      "Epoch 10/10\n",
      "115/115 [==============================] - 44s 385ms/step - loss: 0.0530 - accuracy: 0.9842\n"
     ]
    }
   ],
   "source": [
    "model = tf.keras.Sequential([\n",
    "  tf.keras.layers.Rescaling(1./255, input_shape=(180, 180, 3)),\n",
    "  tf.keras.layers.Conv2D(16, 3, padding='same', activation='relu'),\n",
    "  tf.keras.layers.MaxPooling2D(),\n",
    "  tf.keras.layers.Conv2D(32, 3, padding='same', activation='relu'),\n",
    "  tf.keras.layers.MaxPooling2D(),\n",
    "  tf.keras.layers.Conv2D(64, 3, padding='same', activation='relu'),\n",
    "  tf.keras.layers.MaxPooling2D(),\n",
    "  tf.keras.layers.Dropout(0.2),\n",
    "  tf.keras.layers.Flatten(),\n",
    "  tf.keras.layers.Dense(128, activation='relu'),\n",
    "  tf.keras.layers.Dense(5)\n",
    "])\n",
    "\n",
    "model.compile(optimizer='adam',\n",
    "              loss=tf.keras.losses.SparseCategoricalCrossentropy(from_logits=True),\n",
    "              metrics=['accuracy'])\n",
    "epochs=10\n",
    "history = model.fit(\n",
    "  train_ds,\n",
    "  epochs=epochs\n",
    ")"
   ]
  },
  {
   "cell_type": "code",
   "execution_count": 5,
   "id": "3ae4bd4c",
   "metadata": {},
   "outputs": [
    {
     "name": "stdout",
     "output_type": "stream",
     "text": [
      "Model: \"sequential\"\n",
      "_________________________________________________________________\n",
      " Layer (type)                Output Shape              Param #   \n",
      "=================================================================\n",
      " rescaling (Rescaling)       (None, 180, 180, 3)       0         \n",
      "                                                                 \n",
      " conv2d (Conv2D)             (None, 180, 180, 16)      448       \n",
      "                                                                 \n",
      " max_pooling2d (MaxPooling2D  (None, 90, 90, 16)       0         \n",
      " )                                                               \n",
      "                                                                 \n",
      " conv2d_1 (Conv2D)           (None, 90, 90, 32)        4640      \n",
      "                                                                 \n",
      " max_pooling2d_1 (MaxPooling  (None, 45, 45, 32)       0         \n",
      " 2D)                                                             \n",
      "                                                                 \n",
      " conv2d_2 (Conv2D)           (None, 45, 45, 64)        18496     \n",
      "                                                                 \n",
      " max_pooling2d_2 (MaxPooling  (None, 22, 22, 64)       0         \n",
      " 2D)                                                             \n",
      "                                                                 \n",
      " dropout (Dropout)           (None, 22, 22, 64)        0         \n",
      "                                                                 \n",
      " flatten (Flatten)           (None, 30976)             0         \n",
      "                                                                 \n",
      " dense (Dense)               (None, 128)               3965056   \n",
      "                                                                 \n",
      " dense_1 (Dense)             (None, 5)                 645       \n",
      "                                                                 \n",
      "=================================================================\n",
      "Total params: 3,989,285\n",
      "Trainable params: 3,989,285\n",
      "Non-trainable params: 0\n",
      "_________________________________________________________________\n"
     ]
    }
   ],
   "source": [
    "model.summary()"
   ]
  },
  {
   "cell_type": "code",
   "execution_count": 6,
   "id": "7304a31f",
   "metadata": {},
   "outputs": [
    {
     "name": "stderr",
     "output_type": "stream",
     "text": [
      "C:\\Users\\Varun\\anaconda3\\lib\\site-packages\\sklearn\\manifold\\_t_sne.py:780: FutureWarning: The default initialization in TSNE will change from 'random' to 'pca' in 1.2.\n",
      "  warnings.warn(\n",
      "C:\\Users\\Varun\\anaconda3\\lib\\site-packages\\sklearn\\manifold\\_t_sne.py:790: FutureWarning: The default learning rate in TSNE will change from 200.0 to 'auto' in 1.2.\n",
      "  warnings.warn(\n"
     ]
    }
   ],
   "source": [
    "import numpy as np\n",
    "from  matplotlib import pyplot as plt\n",
    "from sklearn.manifold import TSNE\n",
    "\n",
    "model2 = tf.keras.Model(inputs=model.input, outputs=model.layers[-2].output)\n",
    "test_ds = np.concatenate(list(train_ds.take(5).map(lambda x, y : x))) # get five batches of images and convert to numpy array\n",
    "features = model2(test_ds)\n",
    "labels = np.argmax(model(test_ds), axis=-1)\n",
    "tsne = TSNE(n_components=2).fit_transform(features)"
   ]
  },
  {
   "cell_type": "code",
   "execution_count": 7,
   "id": "585a4356",
   "metadata": {},
   "outputs": [],
   "source": [
    "def scale_to_01_range(x):\n",
    "\n",
    "    value_range = (np.max(x) - np.min(x))\n",
    "    starts_from_zero = x - np.min(x)\n",
    "    return starts_from_zero / value_range"
   ]
  },
  {
   "cell_type": "code",
   "execution_count": 8,
   "id": "ca3fb13a",
   "metadata": {},
   "outputs": [],
   "source": [
    "tx = tsne[:, 0]\n",
    "ty = tsne[:, 1]\n",
    "\n",
    "tx = scale_to_01_range(tx)\n",
    "ty = scale_to_01_range(ty)\n"
   ]
  },
  {
   "cell_type": "code",
   "execution_count": 9,
   "id": "4b8ecd1b",
   "metadata": {},
   "outputs": [
    {
     "name": "stdout",
     "output_type": "stream",
     "text": [
      "['daisy', 'dandelion', 'roses', 'sunflowers', 'tulips']\n"
     ]
    },
    {
     "data": {
      "image/png": "[encoded data removed]",
      "text/plain": [
       "<Figure size 432x288 with 1 Axes>"
      ]
     },
     "metadata": {
      "needs_background": "light"
     },
     "output_type": "display_data"
    }
   ],
   "source": [
    "colors = ['red', 'blue', 'green', 'brown', 'yellow']\n",
    "classes = train_ds.class_names\n",
    "print(classes)\n",
    "fig = plt.figure()\n",
    "ax = fig.add_subplot(111)\n",
    "for idx, c in enumerate(colors):\n",
    "    indices = [i for i, l in enumerate(labels) if idx == l]\n",
    "    current_tx = np.take(tx, indices)\n",
    "    current_ty = np.take(ty, indices)\n",
    "    ax.scatter(current_tx, current_ty, c=c, label=classes[idx])\n",
    "\n",
    "ax.legend(loc='best')\n",
    "plt.show()"
   ]
  },
  {
   "cell_type": "code",
   "execution_count": null,
   "id": "caea6671",
   "metadata": {},
   "outputs": [],
   "source": []
  }
 ],
 "metadata": {
  "kernelspec": {
   "display_name": "Python 3",
   "language": "python",
   "name": "python3"
  },
  "language_info": {
   "codemirror_mode": {
    "name": "ipython",
    "version": 3
   },
   "file_extension": ".py",
   "mimetype": "text/x-python",
   "name": "python",
   "nbconvert_exporter": "python",
   "pygments_lexer": "ipython3",
   "version": "3.8.8"
  }
 },
 "nbformat": 4,
 "nbformat_minor": 5
}
